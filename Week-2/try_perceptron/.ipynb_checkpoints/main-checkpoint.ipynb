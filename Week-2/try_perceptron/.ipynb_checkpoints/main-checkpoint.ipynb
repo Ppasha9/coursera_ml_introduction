{
 "cells": [
  {
   "cell_type": "code",
   "execution_count": 1,
   "metadata": {},
   "outputs": [
    {
     "name": "stderr",
     "output_type": "stream",
     "text": [
      "C:\\Users\\Home\\anaconda3\\lib\\importlib\\_bootstrap.py:219: RuntimeWarning: numpy.ufunc size changed, may indicate binary incompatibility. Expected 192 from C header, got 216 from PyObject\n",
      "  return f(*args, **kwds)\n"
     ]
    }
   ],
   "source": [
    "import numpy as np\n",
    "import pandas as pd\n",
    "\n",
    "from sklearn.linear_model import Perceptron\n",
    "from sklearn.metrics import accuracy_score\n",
    "from sklearn.preprocessing import StandardScaler"
   ]
  },
  {
   "cell_type": "code",
   "execution_count": 4,
   "metadata": {},
   "outputs": [],
   "source": [
    "test_df = pd.read_csv(\"./perceptron_test.csv\")\n",
    "train_df = pd.read_csv(\"./perceptron_train.csv\")"
   ]
  },
  {
   "cell_type": "code",
   "execution_count": 5,
   "metadata": {},
   "outputs": [
    {
     "data": {
      "text/html": [
       "<div>\n",
       "<style scoped>\n",
       "    .dataframe tbody tr th:only-of-type {\n",
       "        vertical-align: middle;\n",
       "    }\n",
       "\n",
       "    .dataframe tbody tr th {\n",
       "        vertical-align: top;\n",
       "    }\n",
       "\n",
       "    .dataframe thead th {\n",
       "        text-align: right;\n",
       "    }\n",
       "</style>\n",
       "<table border=\"1\" class=\"dataframe\">\n",
       "  <thead>\n",
       "    <tr style=\"text-align: right;\">\n",
       "      <th></th>\n",
       "      <th>C</th>\n",
       "      <th>F</th>\n",
       "      <th>S</th>\n",
       "    </tr>\n",
       "  </thead>\n",
       "  <tbody>\n",
       "    <tr>\n",
       "      <th>0</th>\n",
       "      <td>-1.0</td>\n",
       "      <td>1.651437</td>\n",
       "      <td>1337.453826</td>\n",
       "    </tr>\n",
       "    <tr>\n",
       "      <th>1</th>\n",
       "      <td>1.0</td>\n",
       "      <td>-0.866495</td>\n",
       "      <td>1191.232457</td>\n",
       "    </tr>\n",
       "    <tr>\n",
       "      <th>2</th>\n",
       "      <td>-1.0</td>\n",
       "      <td>0.789828</td>\n",
       "      <td>-475.647768</td>\n",
       "    </tr>\n",
       "    <tr>\n",
       "      <th>3</th>\n",
       "      <td>-1.0</td>\n",
       "      <td>0.179549</td>\n",
       "      <td>1959.095353</td>\n",
       "    </tr>\n",
       "    <tr>\n",
       "      <th>4</th>\n",
       "      <td>1.0</td>\n",
       "      <td>-0.434351</td>\n",
       "      <td>568.504207</td>\n",
       "    </tr>\n",
       "  </tbody>\n",
       "</table>\n",
       "</div>"
      ],
      "text/plain": [
       "     C         F            S\n",
       "0 -1.0  1.651437  1337.453826\n",
       "1  1.0 -0.866495  1191.232457\n",
       "2 -1.0  0.789828  -475.647768\n",
       "3 -1.0  0.179549  1959.095353\n",
       "4  1.0 -0.434351   568.504207"
      ]
     },
     "execution_count": 5,
     "metadata": {},
     "output_type": "execute_result"
    }
   ],
   "source": [
    "test_df.head()"
   ]
  },
  {
   "cell_type": "code",
   "execution_count": 18,
   "metadata": {},
   "outputs": [
    {
     "name": "stdout",
     "output_type": "stream",
     "text": [
      "[-1.  1. -1. -1.  1.  1.  1.  1.  1.  1.]\n",
      "[[ 1.65143654e+00  1.33745383e+03]\n",
      " [-8.66495204e-01  1.19123246e+03]\n",
      " [ 7.89828035e-01 -4.75647768e+02]\n",
      " [ 1.79549485e-01  1.95909535e+03]\n",
      " [-4.34351276e-01  5.68504207e+02]\n",
      " [-1.50629471e+00  9.29584470e+02]\n",
      " [-1.25388067e+00 -4.48391638e+02]\n",
      " [-3.93310852e-01 -1.10923094e+03]\n",
      " [ 4.74347298e-01 -1.49290942e+02]\n",
      " [-8.82828988e-01 -1.79388892e+03]]\n"
     ]
    }
   ],
   "source": [
    "test_target = np.array(test_df[\"C\"])\n",
    "train_target = np.array(train_df[\"C\"])\n",
    "\n",
    "test_data = test_df.drop(columns=\"C\").to_numpy()\n",
    "train_data = train_df.drop(columns=\"C\").to_numpy()\n",
    "\n",
    "print(test_target[:10])\n",
    "print(test_data[:10])"
   ]
  },
  {
   "cell_type": "code",
   "execution_count": 23,
   "metadata": {},
   "outputs": [
    {
     "name": "stdout",
     "output_type": "stream",
     "text": [
      "Not scaled accuracy metric: 0.655\n"
     ]
    }
   ],
   "source": [
    "perceptron = Perceptron(random_state=241, max_iter=5, tol=None)\n",
    "perceptron.fit(train_data, train_target)\n",
    "acc_metric = accuracy_score(test_target, perceptron.predict(test_data))\n",
    "print(f\"Not scaled accuracy metric: {acc_metric}\")"
   ]
  },
  {
   "cell_type": "code",
   "execution_count": 24,
   "metadata": {},
   "outputs": [],
   "source": [
    "scaler = StandardScaler()\n",
    "train_data_scaled = scaler.fit_transform(train_data)\n",
    "test_data_scaled = scaler.transform(test_data)"
   ]
  },
  {
   "cell_type": "code",
   "execution_count": 25,
   "metadata": {},
   "outputs": [
    {
     "name": "stdout",
     "output_type": "stream",
     "text": [
      "Scaled accuracy metric: 0.84\n"
     ]
    }
   ],
   "source": [
    "perceptron.fit(train_data_scaled, train_target)\n",
    "acc_metric_scaled = accuracy_score(test_target, perceptron.predict(test_data_scaled))\n",
    "print(f\"Scaled accuracy metric: {acc_metric_scaled}\")"
   ]
  },
  {
   "cell_type": "code",
   "execution_count": 26,
   "metadata": {},
   "outputs": [
    {
     "name": "stdout",
     "output_type": "stream",
     "text": [
      "Differnce: 0.185\n"
     ]
    }
   ],
   "source": [
    "diff = round(acc_metric_scaled - acc_metric, 3)\n",
    "print(f\"Differnce: {diff}\")"
   ]
  },
  {
   "cell_type": "code",
   "execution_count": null,
   "metadata": {},
   "outputs": [],
   "source": []
  }
 ],
 "metadata": {
  "kernelspec": {
   "display_name": "Python 3",
   "language": "python",
   "name": "python3"
  },
  "language_info": {
   "codemirror_mode": {
    "name": "ipython",
    "version": 3
   },
   "file_extension": ".py",
   "mimetype": "text/x-python",
   "name": "python",
   "nbconvert_exporter": "python",
   "pygments_lexer": "ipython3",
   "version": "3.7.6"
  }
 },
 "nbformat": 4,
 "nbformat_minor": 4
}
